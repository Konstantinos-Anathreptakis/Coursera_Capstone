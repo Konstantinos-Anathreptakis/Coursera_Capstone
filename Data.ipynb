{
 "cells": [
  {
   "cell_type": "markdown",
   "metadata": {},
   "source": [
    "## 2. Data acquisition and cleaning"
   ]
  },
  {
   "cell_type": "markdown",
   "metadata": {},
   "source": [
    "### 2.1 Data sources"
   ]
  },
  {
   "cell_type": "markdown",
   "metadata": {},
   "source": [
    "First of all, we need to find data for all the areas of London. Noted that the London has 33 boroughs (see the link: https://en.wikipedia.org/wiki/London_boroughs). The data for this project was obtained from public web site such as Wikipedia and Foursquare. The initial dataset will be downloaded from (https://en.wikipedia.org/wiki/List_of_areas_of_London). The dataset will be downloaded using Beautiful Soup Python library."
   ]
  },
  {
   "cell_type": "markdown",
   "metadata": {},
   "source": [
    "### 2.1 Data cleaning"
   ]
  },
  {
   "cell_type": "markdown",
   "metadata": {},
   "source": [
    "Data scraped from the web and cleaned and then combined into dataframe. The initial dataset has six columns (Location, London borough, Post town, Postcode district, Dial code, OS grid ref). First of all, we have to rename the columns as following (Location','Borough','Post_town','Postcode', 'Dial', 'OS'). Then we drop the columns ('Dial', 'OS') and we select only for the data with 'Post_town' == ‘London’. Finally we find the unique post codes per location.\n",
    "\n",
    "Afterwards we have to obtain latitude and longitude data for each location. geocoder.arcgis is used in order to find each latitude and longitude based on post codes. Finally, we request data with Foursquare API for all locations to get the top 50 venues per borough within a radius of 500 meters."
   ]
  },
  {
   "cell_type": "markdown",
   "metadata": {},
   "source": [
    "### 2.3 Feature selection"
   ]
  },
  {
   "cell_type": "markdown",
   "metadata": {},
   "source": [
    "In this project we apply an unsupervised machine learning algorithm in order to cluster the boroughs, so we only have features (not label data needed). Our features will be the top 50 venues per borough, such as Restaurant, Coffee Shop, Wine Shop, Gym, etc."
   ]
  },
  {
   "cell_type": "code",
   "execution_count": null,
   "metadata": {},
   "outputs": [],
   "source": []
  }
 ],
 "metadata": {
  "kernelspec": {
   "display_name": "Python 3",
   "language": "python",
   "name": "python3"
  },
  "language_info": {
   "codemirror_mode": {
    "name": "ipython",
    "version": 3
   },
   "file_extension": ".py",
   "mimetype": "text/x-python",
   "name": "python",
   "nbconvert_exporter": "python",
   "pygments_lexer": "ipython3",
   "version": "3.8.5"
  }
 },
 "nbformat": 4,
 "nbformat_minor": 4
}
