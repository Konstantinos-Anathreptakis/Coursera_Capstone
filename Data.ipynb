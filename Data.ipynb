{
 "cells": [
  {
   "cell_type": "markdown",
   "metadata": {},
   "source": [
    "# Data section "
   ]
  },
  {
   "cell_type": "markdown",
   "metadata": {},
   "source": [
    "### First of all we need to download data form the web using Beautiful Soup Python library. Our initial dataset will be downloaded from (https://en.wikipedia.org/wiki/List_of_areas_of_London). We have to clean and wrangle the data in order to find the unique post codes per neighborhood. Then we have to obtained latitude and longitude for each neighborhood with the post code (I used geocoder.arcgis). Finally, we request data with Foursquare API for all the neighborhoods to get the top 50 venues per neighborhood within a radius of 500 meters. "
   ]
  },
  {
   "cell_type": "code",
   "execution_count": 1,
   "metadata": {},
   "outputs": [
    {
     "name": "stdout",
     "output_type": "stream",
     "text": [
      "Week 1, Data section\n"
     ]
    }
   ],
   "source": [
    "print(\"Week 1, Data section\")"
   ]
  },
  {
   "cell_type": "code",
   "execution_count": null,
   "metadata": {},
   "outputs": [],
   "source": []
  }
 ],
 "metadata": {
  "kernelspec": {
   "display_name": "Python 3",
   "language": "python",
   "name": "python3"
  },
  "language_info": {
   "codemirror_mode": {
    "name": "ipython",
    "version": 3
   },
   "file_extension": ".py",
   "mimetype": "text/x-python",
   "name": "python",
   "nbconvert_exporter": "python",
   "pygments_lexer": "ipython3",
   "version": "3.8.5"
  }
 },
 "nbformat": 4,
 "nbformat_minor": 4
}
