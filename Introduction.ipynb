{
 "cells": [
  {
   "cell_type": "markdown",
   "metadata": {},
   "source": [
    "# Finding the best place to open a restaurant in London "
   ]
  },
  {
   "cell_type": "markdown",
   "metadata": {},
   "source": [
    "## Konstantinos Anathreptakis"
   ]
  },
  {
   "cell_type": "markdown",
   "metadata": {},
   "source": [
    "## June, 2021"
   ]
  },
  {
   "cell_type": "markdown",
   "metadata": {},
   "source": [
    "## 1. Introduction"
   ]
  },
  {
   "cell_type": "markdown",
   "metadata": {},
   "source": [
    "### 1.1 Background"
   ]
  },
  {
   "cell_type": "markdown",
   "metadata": {},
   "source": [
    "London is the largest city in the United Kingdom and one of the biggest financial centers in the world. It is very difficult to define which neighborhood will have the best prospect to open a new restaurant using a traditional approach, as the area of London is extreme wide and the population is approximately at 9 million. \n",
    "\n",
    "We will explore London neighborhoods Latitude and Longitude data in order to find the best place to open a restaurant. We have to utilize foursquare location data based on London post code through geocoder.arcgis."
   ]
  },
  {
   "cell_type": "markdown",
   "metadata": {},
   "source": [
    "### 1.2 Problem"
   ]
  },
  {
   "cell_type": "markdown",
   "metadata": {},
   "source": [
    "In this project we try to utilize Foursquare data based on the London Post code in order to find locations that restaurants are the most frequently venues in that neighborhood.\n",
    "\n",
    "Moreover, it is also important to answer the following question \"Which neighborhoods exhibit the same characteristics based on venues?\". In order to answer the above mentioned question a clustering method is applied. The neighborhoods will be categorized into 5 clusters that have similar characteristics. This project aims to choose the location that is best for restaurants and to cluster neighborhoods."
   ]
  },
  {
   "cell_type": "markdown",
   "metadata": {},
   "source": [
    "### 1.3 Interest"
   ]
  },
  {
   "cell_type": "markdown",
   "metadata": {},
   "source": [
    "Many businesses in the food industry as well advertising companies would be very interested to have answers to problems stated above. For instance, a franchise fast-food restaurant wants to know where to open restaurants. The best strategy would be to open one restaurant in each unique cluster. Moreover, the knowledge of the location with the most frequently restaurants venues are very important for the business plan of a company in in the food industry."
   ]
  },
  {
   "cell_type": "code",
   "execution_count": null,
   "metadata": {},
   "outputs": [],
   "source": []
  }
 ],
 "metadata": {
  "kernelspec": {
   "display_name": "Python 3",
   "language": "python",
   "name": "python3"
  },
  "language_info": {
   "codemirror_mode": {
    "name": "ipython",
    "version": 3
   },
   "file_extension": ".py",
   "mimetype": "text/x-python",
   "name": "python",
   "nbconvert_exporter": "python",
   "pygments_lexer": "ipython3",
   "version": "3.8.5"
  }
 },
 "nbformat": 4,
 "nbformat_minor": 4
}
